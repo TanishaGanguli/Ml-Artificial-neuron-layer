{
  "nbformat": 4,
  "nbformat_minor": 0,
  "metadata": {
    "colab": {
      "name": "Artificial Neuron Layer.ipynb",
      "provenance": [],
      "authorship_tag": "ABX9TyMFo9FOQCx7wFDvwlRpPoSo",
      "include_colab_link": true
    },
    "kernelspec": {
      "name": "python3",
      "display_name": "Python 3"
    }
  },
  "cells": [
    {
      "cell_type": "markdown",
      "metadata": {
        "id": "view-in-github",
        "colab_type": "text"
      },
      "source": [
        "<a href=\"https://colab.research.google.com/github/TanishaGanguli/Ml-Artificial-neuron-layer/blob/main/Artificial_Neuron_Layer.ipynb\" target=\"_parent\"><img src=\"https://colab.research.google.com/assets/colab-badge.svg\" alt=\"Open In Colab\"/></a>"
      ]
    },
    {
      "cell_type": "markdown",
      "metadata": {
        "id": "5HT1I4qbzTHO"
      },
      "source": [
        "**ARTIFICIAL NEURON** **LAYER**\r\n",
        "Here we use pytorch tensors to create a layer of artificial neurons that could be used within a deep learning model architechture"
      ]
    },
    {
      "cell_type": "code",
      "metadata": {
        "id": "PZ9qD9Pczkhu"
      },
      "source": [
        "import torch\r\n",
        "import matplotlib.pyplot as plt"
      ],
      "execution_count": 1,
      "outputs": []
    },
    {
      "cell_type": "code",
      "metadata": {
        "id": "AKkLl2BSzqw0"
      },
      "source": [
        "_=torch.manual_seed(42)"
      ],
      "execution_count": 2,
      "outputs": []
    },
    {
      "cell_type": "markdown",
      "metadata": {
        "id": "ML_savzozzwU"
      },
      "source": [
        "Set number of neurons"
      ]
    },
    {
      "cell_type": "code",
      "metadata": {
        "id": "quwIxMUlz2mU"
      },
      "source": [
        "n_input= 784 #Flattened 28*28-pixel image\r\n",
        "n_dense = 128"
      ],
      "execution_count": 3,
      "outputs": []
    },
    {
      "cell_type": "markdown",
      "metadata": {
        "id": "GvKdOdmw0BpW"
      },
      "source": [
        "Simulate an \"input image\" with a vector tensor x:"
      ]
    },
    {
      "cell_type": "code",
      "metadata": {
        "id": "fUBX0XaF0HOY"
      },
      "source": [
        "x= torch.rand(n_input) #samples float values from (0,1) uniform distribution (interval doesnt include 1)"
      ],
      "execution_count": 4,
      "outputs": []
    },
    {
      "cell_type": "code",
      "metadata": {
        "colab": {
          "base_uri": "https://localhost:8080/"
        },
        "id": "0BpAa17Q0abE",
        "outputId": "a914a263-0580-4352-8276-9d3da511831f"
      },
      "source": [
        "x.shape"
      ],
      "execution_count": 5,
      "outputs": [
        {
          "output_type": "execute_result",
          "data": {
            "text/plain": [
              "torch.Size([784])"
            ]
          },
          "metadata": {
            "tags": []
          },
          "execution_count": 5
        }
      ]
    },
    {
      "cell_type": "code",
      "metadata": {
        "colab": {
          "base_uri": "https://localhost:8080/"
        },
        "id": "8qZCI8N50bqR",
        "outputId": "c3ee42c5-1b5d-433a-dfb4-ecae9ce57706"
      },
      "source": [
        "x[0:6]"
      ],
      "execution_count": 6,
      "outputs": [
        {
          "output_type": "execute_result",
          "data": {
            "text/plain": [
              "tensor([0.8823, 0.9150, 0.3829, 0.9593, 0.3904, 0.6009])"
            ]
          },
          "metadata": {
            "tags": []
          },
          "execution_count": 6
        }
      ]
    },
    {
      "cell_type": "code",
      "metadata": {
        "colab": {
          "base_uri": "https://localhost:8080/",
          "height": 265
        },
        "id": "2rmfuUD50gKD",
        "outputId": "0d7038b4-9109-4df8-a009-8c20c18aadab"
      },
      "source": [
        "_=plt.hist(x)"
      ],
      "execution_count": 7,
      "outputs": [
        {
          "output_type": "display_data",
          "data": {
            "image/png": "[encoded data removed]",
            "text/plain": [
              "<Figure size 432x288 with 1 Axes>"
            ]
          },
          "metadata": {
            "tags": [],
            "needs_background": "light"
          }
        }
      ]
    },
    {
      "cell_type": "markdown",
      "metadata": {
        "id": "D8Uu7IVV1PCm"
      },
      "source": [
        "create tensors to store neuron parameters like weight matrix W, bias vector b) and initialize them with starting values"
      ]
    },
    {
      "cell_type": "code",
      "metadata": {
        "id": "zQQd4DhU0kVJ"
      },
      "source": [
        "b=torch.zeros(n_dense)"
      ],
      "execution_count": 8,
      "outputs": []
    },
    {
      "cell_type": "code",
      "metadata": {
        "colab": {
          "base_uri": "https://localhost:8080/"
        },
        "id": "8xUAz-_s0tMA",
        "outputId": "bc25ab2d-ef08-4dd2-b7da-6c67a6bed508"
      },
      "source": [
        "b.shape"
      ],
      "execution_count": 9,
      "outputs": [
        {
          "output_type": "execute_result",
          "data": {
            "text/plain": [
              "torch.Size([128])"
            ]
          },
          "metadata": {
            "tags": []
          },
          "execution_count": 9
        }
      ]
    },
    {
      "cell_type": "code",
      "metadata": {
        "colab": {
          "base_uri": "https://localhost:8080/"
        },
        "id": "o2JiuZcY0t1-",
        "outputId": "337b98da-a739-488d-b208-3cd3ef26d773"
      },
      "source": [
        "b[0:6]"
      ],
      "execution_count": 10,
      "outputs": [
        {
          "output_type": "execute_result",
          "data": {
            "text/plain": [
              "tensor([0., 0., 0., 0., 0., 0.])"
            ]
          },
          "metadata": {
            "tags": []
          },
          "execution_count": 10
        }
      ]
    },
    {
      "cell_type": "code",
      "metadata": {
        "id": "W2jgFDep0wCo"
      },
      "source": [
        "W=torch.empty([n_input,n_dense])\r\n",
        "W=torch.nn.init.xavier_normal_(W)"
      ],
      "execution_count": 11,
      "outputs": []
    },
    {
      "cell_type": "code",
      "metadata": {
        "colab": {
          "base_uri": "https://localhost:8080/"
        },
        "id": "UR8Q_pGH1CwB",
        "outputId": "d577e333-94ec-483e-c5da-26cf5d6da519"
      },
      "source": [
        "W.shape"
      ],
      "execution_count": 12,
      "outputs": [
        {
          "output_type": "execute_result",
          "data": {
            "text/plain": [
              "torch.Size([784, 128])"
            ]
          },
          "metadata": {
            "tags": []
          },
          "execution_count": 12
        }
      ]
    },
    {
      "cell_type": "code",
      "metadata": {
        "colab": {
          "base_uri": "https://localhost:8080/"
        },
        "id": "NlCwvVeq1Dwl",
        "outputId": "f224d92e-75b6-45e3-d772-935cb003b9f1"
      },
      "source": [
        "W[0:4,0:4]"
      ],
      "execution_count": 13,
      "outputs": [
        {
          "output_type": "execute_result",
          "data": {
            "text/plain": [
              "tensor([[ 0.0008,  0.0038,  0.0349,  0.0630],\n",
              "        [ 0.0872, -0.0505,  0.0414, -0.0391],\n",
              "        [-0.0162, -0.0056,  0.0555, -0.0571],\n",
              "        [ 0.0050, -0.0144,  0.0405, -0.0499]])"
            ]
          },
          "metadata": {
            "tags": []
          },
          "execution_count": 13
        }
      ]
    },
    {
      "cell_type": "markdown",
      "metadata": {
        "id": "kWmTs2a_1dOC"
      },
      "source": [
        "Pass the \"input image\" x through a dense neuron layer with a sigmoid activation function to the output of tensor a, which contains one element per neuron."
      ]
    },
    {
      "cell_type": "code",
      "metadata": {
        "id": "IY9k90tL1IvE"
      },
      "source": [
        "z= torch.add(torch.matmul(x,W),b)"
      ],
      "execution_count": 14,
      "outputs": []
    },
    {
      "cell_type": "code",
      "metadata": {
        "id": "7D5ggVXU15Q_"
      },
      "source": [
        "a=torch.sigmoid(z)"
      ],
      "execution_count": 15,
      "outputs": []
    },
    {
      "cell_type": "code",
      "metadata": {
        "colab": {
          "base_uri": "https://localhost:8080/"
        },
        "id": "_n3sT2-019A8",
        "outputId": "64a6e8bc-45a7-408f-9520-73667452d2ad"
      },
      "source": [
        "a.shape"
      ],
      "execution_count": 16,
      "outputs": [
        {
          "output_type": "execute_result",
          "data": {
            "text/plain": [
              "torch.Size([128])"
            ]
          },
          "metadata": {
            "tags": []
          },
          "execution_count": 16
        }
      ]
    },
    {
      "cell_type": "code",
      "metadata": {
        "colab": {
          "base_uri": "https://localhost:8080/",
          "height": 265
        },
        "id": "4nIUYQDv1947",
        "outputId": "72547a95-3754-47e8-b0c0-c497849fb277"
      },
      "source": [
        "_=plt.hist(a)"
      ],
      "execution_count": 17,
      "outputs": [
        {
          "output_type": "display_data",
          "data": {
            "image/png": "[encoded data removed]",
            "text/plain": [
              "<Figure size 432x288 with 1 Axes>"
            ]
          },
          "metadata": {
            "tags": [],
            "needs_background": "light"
          }
        }
      ]
    },
    {
      "cell_type": "code",
      "metadata": {
        "id": "-qL5BN7a2GMA"
      },
      "source": [
        ""
      ],
      "execution_count": null,
      "outputs": []
    }
  ]
}